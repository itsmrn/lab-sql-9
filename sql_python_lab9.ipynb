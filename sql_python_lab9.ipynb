{
 "cells": [
  {
   "cell_type": "code",
   "execution_count": 1,
   "id": "f0d44f21",
   "metadata": {},
   "outputs": [],
   "source": [
    "import mysql.connector\n",
    "import pandas as pd\n",
    "\n",
    "import warnings\n",
    "warnings.filterwarnings(\"ignore\", category=DeprecationWarning)\n",
    "warnings.filterwarnings('ignore')"
   ]
  },
  {
   "cell_type": "code",
   "execution_count": 2,
   "id": "17ccf6ab",
   "metadata": {},
   "outputs": [],
   "source": [
    "from mysql.connector import connect\n",
    "from getpass import getpass"
   ]
  },
  {
   "cell_type": "code",
   "execution_count": 3,
   "id": "0dd9c2a6",
   "metadata": {},
   "outputs": [
    {
     "name": "stdout",
     "output_type": "stream",
     "text": [
      "Enter password: ········\n"
     ]
    }
   ],
   "source": [
    "db = connect(\n",
    "        host= \"localhost\",\n",
    "        user = \"root\",\n",
    "        passwd = getpass(\"Enter password: \"),\n",
    "        database= \"sakila\"\n",
    "   )"
   ]
  },
  {
   "cell_type": "code",
   "execution_count": 38,
   "id": "3e745f99",
   "metadata": {},
   "outputs": [],
   "source": [
    "cursor = db.cursor()"
   ]
  },
  {
   "cell_type": "code",
   "execution_count": 39,
   "id": "8af215d0",
   "metadata": {},
   "outputs": [],
   "source": [
    "rentals_may = \"select count(*), customer_id from rentals_may group by customer_id\""
   ]
  },
  {
   "cell_type": "code",
   "execution_count": 43,
   "id": "ee6b4899",
   "metadata": {},
   "outputs": [],
   "source": [
    "df_may = pd.read_sql_query(rentals_may,db)"
   ]
  },
  {
   "cell_type": "code",
   "execution_count": 46,
   "id": "0dd57acf",
   "metadata": {},
   "outputs": [
    {
     "data": {
      "text/html": [
       "<div>\n",
       "<style scoped>\n",
       "    .dataframe tbody tr th:only-of-type {\n",
       "        vertical-align: middle;\n",
       "    }\n",
       "\n",
       "    .dataframe tbody tr th {\n",
       "        vertical-align: top;\n",
       "    }\n",
       "\n",
       "    .dataframe thead th {\n",
       "        text-align: right;\n",
       "    }\n",
       "</style>\n",
       "<table border=\"1\" class=\"dataframe\">\n",
       "  <thead>\n",
       "    <tr style=\"text-align: right;\">\n",
       "      <th></th>\n",
       "      <th>count(*)</th>\n",
       "      <th>customer_id</th>\n",
       "    </tr>\n",
       "  </thead>\n",
       "  <tbody>\n",
       "    <tr>\n",
       "      <th>0</th>\n",
       "      <td>2</td>\n",
       "      <td>130</td>\n",
       "    </tr>\n",
       "    <tr>\n",
       "      <th>1</th>\n",
       "      <td>1</td>\n",
       "      <td>459</td>\n",
       "    </tr>\n",
       "    <tr>\n",
       "      <th>2</th>\n",
       "      <td>3</td>\n",
       "      <td>408</td>\n",
       "    </tr>\n",
       "    <tr>\n",
       "      <th>3</th>\n",
       "      <td>1</td>\n",
       "      <td>333</td>\n",
       "    </tr>\n",
       "    <tr>\n",
       "      <th>4</th>\n",
       "      <td>4</td>\n",
       "      <td>222</td>\n",
       "    </tr>\n",
       "  </tbody>\n",
       "</table>\n",
       "</div>"
      ],
      "text/plain": [
       "   count(*)  customer_id\n",
       "0         2          130\n",
       "1         1          459\n",
       "2         3          408\n",
       "3         1          333\n",
       "4         4          222"
      ]
     },
     "execution_count": 46,
     "metadata": {},
     "output_type": "execute_result"
    }
   ],
   "source": [
    "df_may.head(5)"
   ]
  },
  {
   "cell_type": "code",
   "execution_count": 61,
   "id": "a3c4a001",
   "metadata": {},
   "outputs": [
    {
     "data": {
      "text/plain": [
       "993"
      ]
     },
     "execution_count": 61,
     "metadata": {},
     "output_type": "execute_result"
    }
   ],
   "source": [
    "df_may['count(*)'].sum()"
   ]
  },
  {
   "cell_type": "markdown",
   "id": "659380d5",
   "metadata": {},
   "source": [
    "#### Dataframe for SQL query (June Rentals)"
   ]
  },
  {
   "cell_type": "code",
   "execution_count": 34,
   "id": "e72549ee",
   "metadata": {},
   "outputs": [],
   "source": [
    "rentals_june = \"select count(*), customer_id from rentals_june group by customer_id\""
   ]
  },
  {
   "cell_type": "code",
   "execution_count": 47,
   "id": "b757feff",
   "metadata": {},
   "outputs": [
    {
     "data": {
      "text/html": [
       "<div>\n",
       "<style scoped>\n",
       "    .dataframe tbody tr th:only-of-type {\n",
       "        vertical-align: middle;\n",
       "    }\n",
       "\n",
       "    .dataframe tbody tr th {\n",
       "        vertical-align: top;\n",
       "    }\n",
       "\n",
       "    .dataframe thead th {\n",
       "        text-align: right;\n",
       "    }\n",
       "</style>\n",
       "<table border=\"1\" class=\"dataframe\">\n",
       "  <thead>\n",
       "    <tr style=\"text-align: right;\">\n",
       "      <th></th>\n",
       "      <th>count(*)</th>\n",
       "      <th>customer_id</th>\n",
       "    </tr>\n",
       "  </thead>\n",
       "  <tbody>\n",
       "    <tr>\n",
       "      <th>0</th>\n",
       "      <td>5</td>\n",
       "      <td>416</td>\n",
       "    </tr>\n",
       "    <tr>\n",
       "      <th>1</th>\n",
       "      <td>6</td>\n",
       "      <td>516</td>\n",
       "    </tr>\n",
       "    <tr>\n",
       "      <th>2</th>\n",
       "      <td>5</td>\n",
       "      <td>239</td>\n",
       "    </tr>\n",
       "    <tr>\n",
       "      <th>3</th>\n",
       "      <td>3</td>\n",
       "      <td>285</td>\n",
       "    </tr>\n",
       "    <tr>\n",
       "      <th>4</th>\n",
       "      <td>6</td>\n",
       "      <td>310</td>\n",
       "    </tr>\n",
       "  </tbody>\n",
       "</table>\n",
       "</div>"
      ],
      "text/plain": [
       "   count(*)  customer_id\n",
       "0         5          416\n",
       "1         6          516\n",
       "2         5          239\n",
       "3         3          285\n",
       "4         6          310"
      ]
     },
     "execution_count": 47,
     "metadata": {},
     "output_type": "execute_result"
    }
   ],
   "source": [
    "df_june = pd.read_sql_query(rentals_june,db)\n",
    "df.head(5)"
   ]
  },
  {
   "cell_type": "code",
   "execution_count": 60,
   "id": "a2a875d9",
   "metadata": {},
   "outputs": [
    {
     "data": {
      "text/plain": [
       "2311"
      ]
     },
     "execution_count": 60,
     "metadata": {},
     "output_type": "execute_result"
    }
   ],
   "source": [
    "#df_june.columns\n",
    "df_june['count(*)'].sum()"
   ]
  },
  {
   "cell_type": "markdown",
   "id": "eb0ba1d4",
   "metadata": {},
   "source": [
    "#### Write a function that checks if customer borrowed more or less films in the month of June as compared to May."
   ]
  },
  {
   "cell_type": "code",
   "execution_count": 101,
   "id": "28dbb820",
   "metadata": {},
   "outputs": [
    {
     "name": "stdout",
     "output_type": "stream",
     "text": [
      "Customer borrowed more movies in June\n"
     ]
    }
   ],
   "source": [
    "#Write a function that checks if customer borrowed more or less films in the month \n",
    "#of June as compared to May.\n",
    "\n",
    "df_rentals_may = df_may['count(*)'].sum()\n",
    "df_rentals_june = df_june['count(*)'].sum()\n",
    "\n",
    "def rentals(x,y):\n",
    "    if x > y:\n",
    "        print (\"Customer borrowed more movies in May\")\n",
    "    else:\n",
    "        print (\"Customer borrowed more movies in June\") \n",
    "   \n",
    "rentals(df_rentals_may, df_rentals_june)"
   ]
  }
 ],
 "metadata": {
  "kernelspec": {
   "display_name": "Python 3 (ipykernel)",
   "language": "python",
   "name": "python3"
  },
  "language_info": {
   "codemirror_mode": {
    "name": "ipython",
    "version": 3
   },
   "file_extension": ".py",
   "mimetype": "text/x-python",
   "name": "python",
   "nbconvert_exporter": "python",
   "pygments_lexer": "ipython3",
   "version": "3.9.12"
  }
 },
 "nbformat": 4,
 "nbformat_minor": 5
}
